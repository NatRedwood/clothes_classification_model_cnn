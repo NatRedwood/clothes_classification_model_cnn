{
  "nbformat": 4,
  "nbformat_minor": 0,
  "metadata": {
    "colab": {
      "provenance": [],
      "collapsed_sections": []
    },
    "kernelspec": {
      "name": "python3",
      "display_name": "Python 3"
    },
    "language_info": {
      "name": "python"
    }
  },
  "cells": [
    {
      "cell_type": "markdown",
      "source": [
        "# Influence of Regularization / Code Part I"
      ],
      "metadata": {
        "id": "eh5gPFLhRYN3"
      }
    },
    {
      "cell_type": "code",
      "execution_count": 31,
      "metadata": {
        "id": "PyHaUBPK_vqu"
      },
      "outputs": [],
      "source": [
        "import tensorflow as tf\n",
        "import tensorflow_datasets as tfds\n",
        "import matplotlib.pyplot as plt\n",
        "from sklearn.model_selection import train_test_split\n",
        "import keras\n",
        "from tensorflow.keras.utils import to_categorical\n",
        "from tensorflow.python.keras import Sequential\n",
        "from tensorflow.python.keras.layers import Dense, Conv2D, Flatten, MaxPooling2D\n",
        "import time\n",
        "from tensorflow.python.keras.layers import *\n",
        "from tensorflow.python.keras import Sequential\n",
        "from tensorflow.python.keras.layers import Dense, Conv2D, Flatten, MaxPooling2D\n",
        "from keras import regularizers"
      ]
    },
    {
      "cell_type": "code",
      "source": [
        "# Enable GPU: \"Runtime\"-->\"Change Runtime\"-->\"Hardware Accelerator\"\n",
        "#Check if GPU is enabled\n",
        "tf.test.gpu_device_name()"
      ],
      "metadata": {
        "colab": {
          "base_uri": "https://localhost:8080/",
          "height": 36
        },
        "id": "mpvRlaeo_wi7",
        "outputId": "58223ab0-c2e7-4143-fdb8-f6b86c7f8117"
      },
      "execution_count": 32,
      "outputs": [
        {
          "output_type": "execute_result",
          "data": {
            "text/plain": [
              "''"
            ],
            "application/vnd.google.colaboratory.intrinsic+json": {
              "type": "string"
            }
          },
          "metadata": {},
          "execution_count": 32
        }
      ]
    },
    {
      "cell_type": "code",
      "source": [
        "#2. Import dataset\n",
        "data = tf.keras.datasets.fashion_mnist\n",
        "\n",
        "(x_train, y_train), (x_test, y_test) = data.load_data()\n",
        "#assert x_rem.shape == (60000, 28, 28)\n",
        "assert x_test.shape == (10000, 28, 28)\n",
        "#assert y_rem.shape == (60000,)\n",
        "assert y_test.shape == (10000,)\n",
        "#x_train, x_valid, y_train, y_valid = train_test_split(x_rem, y_rem, test_size=0.15)\n",
        "assert x_train.shape == (60000, 28, 28)\n",
        "#assert x_valid.shape == (9000, 28, 28)\n",
        "assert y_train.shape == (60000,)\n",
        "#assert y_valid.shape == (9000,)"
      ],
      "metadata": {
        "id": "oOHY16HiB6Gg"
      },
      "execution_count": 38,
      "outputs": []
    },
    {
      "cell_type": "code",
      "source": [
        "#Data pre-processing\n",
        "\n",
        "# reshape data to fit the model\n",
        "x_train = x_train.reshape(x_train.shape[0], 28, 28, 1)\n",
        "x_test = x_test.reshape(x_test.shape[0], 28, 28, 1)\n",
        "#x_valid = x_valid.reshape(x_valid.shape[0], 28, 28, 1)\n",
        "\n",
        "y_train = to_categorical(y_train)\n",
        "y_test = to_categorical(y_test)\n",
        "#y_valid = to_categorical(y_valid)\n",
        "\n",
        "# Inspect what the one-hot encoding looks like for the first value\n",
        "y_train[0]"
      ],
      "metadata": {
        "colab": {
          "base_uri": "https://localhost:8080/"
        },
        "id": "vcuXdfHOUQ_o",
        "outputId": "fa9415c6-dece-46a7-da3b-6c3516c216f3"
      },
      "execution_count": 39,
      "outputs": [
        {
          "output_type": "execute_result",
          "data": {
            "text/plain": [
              "array([0., 0., 0., 0., 0., 0., 1., 0., 0., 0.], dtype=float32)"
            ]
          },
          "metadata": {},
          "execution_count": 39
        }
      ]
    },
    {
      "cell_type": "markdown",
      "source": [
        "### EXPERIMENTS"
      ],
      "metadata": {
        "id": "Une9cjK0SbrL"
      }
    },
    {
      "cell_type": "code",
      "source": [
        "from tensorflow.python.ops.gen_batch_ops import batch\n",
        "# Set all the hyperparameters to the same for each model\n",
        "\n",
        "num_iter = 2000\n",
        "opt = 'adam'\n",
        "num_filters = 32\n",
        "kernel_size=3\n",
        "pool_size = (2,2)\n",
        "strides= (2,2)\n",
        "activation = 'relu'\n",
        "padding = 'SAME'\n",
        "loss = \"categorical_crossentropy\"\n",
        "epochs = 10\n",
        "batch_size = 128"
      ],
      "metadata": {
        "id": "6tUO-7p2-Iqr"
      },
      "execution_count": 16,
      "outputs": []
    },
    {
      "cell_type": "code",
      "source": [
        "# Create model 1 with CNN layers / no regularization /3 conv layers\n",
        "title = 'model 1 with CNN layers / no regularization /3 conv layers'\n",
        "\n",
        "model = Sequential()\n",
        "\n",
        "# add a conv layer with \"same\" zero padding\n",
        "model.add(Conv2D(num_filters, kernel_size = kernel_size, activation = activation, padding = padding, input_shape = (28, 28, 1)))\n",
        "\n",
        "# Add a pooling layer\n",
        "model.add(MaxPooling2D(pool_size= pool_size))\n",
        "\n",
        "# Add a second conv layer with a stride of 2x2\n",
        "model.add(Conv2D(num_filters, kernel_size = kernel_size, activation = activation, padding = padding, strides = strides))\n",
        "\n",
        "# Add a pooling layer\n",
        "model.add(MaxPooling2D(pool_size = pool_size))\n",
        "\n",
        "# Add a third conv layer with a stride of 2x2\n",
        "model.add(Conv2D(num_filters, kernel_size = kernel_size, activation = activation, padding = padding, strides = strides))\n",
        "\n",
        "# Add a pooling layer\n",
        "model.add(MaxPooling2D(pool_size = pool_size))\n",
        "\n",
        "# Flatten the input\n",
        "model.add(Flatten())\n",
        "\n",
        "# Regular FC layer with output size 10 (for the 10 digits)\n",
        "model.add(Dense(10, activation = \"softmax\"))\n",
        "\n",
        "# Print the summary of the model to view the shape and number of parameters\n",
        "model.summary()\n",
        "\n",
        "\n",
        "\n",
        "# Specify the optimizer\n",
        "model.compile(optimizer = opt, loss = loss, metrics = ['accuracy'])\n",
        "\n",
        "\n",
        "\n",
        "# Time how fast the model train\n",
        "start = time.time()\n",
        "\n",
        "# Train using adam\n",
        "model1 = model.fit(x_train, y_train, validation_split=0.15,batch_size = batch_size, epochs = epochs, verbose = 1)\n",
        "\n",
        "end = time.time()\n",
        "\n",
        "num_mins = (end-start)/60\n",
        "print(\"Total training time: \"  + str(num_mins) + \" minutes.\")\n",
        "\n",
        "\n",
        "\n",
        "\n",
        "# Evaluate the model \n",
        "score = model.evaluate(x_test, y_test, verbose = 0)\n",
        "print(\"Test loss: %.4f\" % score[0])\n",
        "print(\"Accuracy: %.2f\" % (score[1] * 100.0))\n",
        "\n",
        "\n",
        "\n",
        "\n",
        "# Plot accuracy (val vs test)\n",
        "from matplotlib import pyplot as plt\n",
        "\n",
        "plt.plot(model1.history[\"accuracy\"], color = \"red\", label = \"Training set\")\n",
        "plt.plot(model1.history[\"val_accuracy\"], color = \"orange\", label = \"Validation set\")\n",
        "\n",
        "plt.title(\"Training vs Validation set\\n\"+title)\n",
        "plt.ylabel(\"Accuracy\")\n",
        "plt.xlabel(\"Number of epochs\")\n",
        "plt.legend()\n",
        "plt.show()"
      ],
      "metadata": {
        "colab": {
          "base_uri": "https://localhost:8080/",
          "height": 1000
        },
        "id": "CXXxpwT8Uoj5",
        "outputId": "3251fbde-b2d6-4310-a9d2-09e0b39379d7"
      },
      "execution_count": null,
      "outputs": [
        {
          "output_type": "stream",
          "name": "stdout",
          "text": [
            "Model: \"sequential_3\"\n",
            "_________________________________________________________________\n",
            "Layer (type)                 Output Shape              Param #   \n",
            "=================================================================\n",
            "conv2d_9 (Conv2D)            (None, 28, 28, 32)        320       \n",
            "_________________________________________________________________\n",
            "max_pooling2d_9 (MaxPooling2 (None, 14, 14, 32)        0         \n",
            "_________________________________________________________________\n",
            "conv2d_10 (Conv2D)           (None, 7, 7, 32)          9248      \n",
            "_________________________________________________________________\n",
            "max_pooling2d_10 (MaxPooling (None, 3, 3, 32)          0         \n",
            "_________________________________________________________________\n",
            "conv2d_11 (Conv2D)           (None, 2, 2, 32)          9248      \n",
            "_________________________________________________________________\n",
            "max_pooling2d_11 (MaxPooling (None, 1, 1, 32)          0         \n",
            "_________________________________________________________________\n",
            "flatten_3 (Flatten)          (None, 32)                0         \n",
            "_________________________________________________________________\n",
            "dense_3 (Dense)              (None, 10)                330       \n",
            "=================================================================\n",
            "Total params: 19,146\n",
            "Trainable params: 19,146\n",
            "Non-trainable params: 0\n",
            "_________________________________________________________________\n",
            "Epoch 1/10\n",
            "339/339 [==============================] - 26s 75ms/step - loss: 1.0358 - accuracy: 0.7199 - val_loss: 0.5741 - val_accuracy: 0.8010\n",
            "Epoch 2/10\n",
            "339/339 [==============================] - 34s 100ms/step - loss: 0.4844 - accuracy: 0.8310 - val_loss: 0.4556 - val_accuracy: 0.8472\n",
            "Epoch 3/10\n",
            "339/339 [==============================] - 37s 109ms/step - loss: 0.4129 - accuracy: 0.8536 - val_loss: 0.4143 - val_accuracy: 0.8554\n",
            "Epoch 4/10\n",
            "339/339 [==============================] - 44s 129ms/step - loss: 0.3715 - accuracy: 0.8676 - val_loss: 0.4050 - val_accuracy: 0.8641\n",
            "Epoch 5/10\n",
            "339/339 [==============================] - 26s 76ms/step - loss: 0.3441 - accuracy: 0.8778 - val_loss: 0.3880 - val_accuracy: 0.8680\n",
            "Epoch 6/10\n",
            "339/339 [==============================] - 25s 73ms/step - loss: 0.3240 - accuracy: 0.8827 - val_loss: 0.3825 - val_accuracy: 0.8677\n",
            "Epoch 7/10\n",
            "339/339 [==============================] - 25s 73ms/step - loss: 0.3116 - accuracy: 0.8866 - val_loss: 0.3555 - val_accuracy: 0.8780\n",
            "Epoch 8/10\n",
            "339/339 [==============================] - 26s 78ms/step - loss: 0.2907 - accuracy: 0.8949 - val_loss: 0.3540 - val_accuracy: 0.8810\n",
            "Epoch 9/10\n",
            "339/339 [==============================] - 27s 79ms/step - loss: 0.2796 - accuracy: 0.8983 - val_loss: 0.3509 - val_accuracy: 0.8786\n",
            "Epoch 10/10\n",
            "339/339 [==============================] - 33s 99ms/step - loss: 0.2696 - accuracy: 0.9003 - val_loss: 0.3479 - val_accuracy: 0.8847\n",
            "Total training time: 5.033408737182617 minutes.\n",
            "Test loss: 0.3669\n",
            "Accuracy: 87.84\n"
          ]
        },
        {
          "output_type": "display_data",
          "data": {
            "text/plain": [
              "<Figure size 432x288 with 1 Axes>"
            ],
            "image/png": "[encoded data removed]"
          },
          "metadata": {
            "needs_background": "light"
          }
        }
      ]
    },
    {
      "cell_type": "code",
      "source": [
        "# Create model 2 with CNN layers / no regularization / 1 conv layer\n",
        "\n",
        "title = '2 with CNN layers / no regularization / 1 conv layer'\n",
        "\n",
        "model = Sequential()\n",
        "\n",
        "# add a conv layer with \"same\" zero padding\n",
        "model.add(Conv2D(num_filters, kernel_size = kernel_size, activation = activation, padding = padding, input_shape = (28, 28, 1)))\n",
        "\n",
        "# Add a pooling layer\n",
        "model.add(MaxPooling2D(pool_size = pool_size))\n",
        "\n",
        "# Flatten the input\n",
        "model.add(Flatten())\n",
        "\n",
        "# Regular FC layer with output size 10 (for the 10 digits)\n",
        "model.add(Dense(10, activation = \"softmax\"))\n",
        "\n",
        "# Print the summary of the model to view the shape and number of parameters\n",
        "model.summary()\n",
        "\n",
        "\n",
        "\n",
        "# Specify the optimizer\n",
        "model.compile(optimizer = opt, loss = loss, metrics = ['accuracy'])\n",
        "\n",
        "\n",
        "\n",
        "# Time how fast the model train\n",
        "start = time.time()\n",
        "\n",
        "# Train using adam\n",
        "model1 = model.fit(x_train, y_train, validation_split=0.15,batch_size = batch_size, epochs = epochs, verbose = 1)\n",
        "\n",
        "end = time.time()\n",
        "\n",
        "num_mins = (end-start)/60\n",
        "print(\"Total training time: \"  + str(num_mins) + \" minutes.\")\n",
        "\n",
        "\n",
        "\n",
        "\n",
        "# Evaluate the model \n",
        "#score = model.evaluate(x_test, y_test, verbose = 0)\n",
        "#print(\"Test loss: %.4f\" % score[0])\n",
        "#print(\"Accuracy: %.2f\" % (score[1] * 100.0))\n",
        "\n",
        "\n",
        "\n",
        "\n",
        "# Plot loss function (val vs test)\n",
        "from matplotlib import pyplot as plt\n",
        "\n",
        "plt.plot(model1.history[\"accuracy\"], color = \"red\", label = \"Training set\")\n",
        "plt.plot(model1.history[\"val_accuracy\"], color = \"orange\", label = \"Validation set\")\n",
        "\n",
        "plt.title(\"Training vs Validation set\\n\"+title)\n",
        "plt.ylabel(\"Accuracy\")\n",
        "plt.xlabel(\"Number of epochs\")\n",
        "plt.legend()\n",
        "plt.show()"
      ],
      "metadata": {
        "id": "zPam95F5VBXR",
        "colab": {
          "base_uri": "https://localhost:8080/",
          "height": 972
        },
        "outputId": "ed87781d-a08d-4005-bf1e-14899fd881fc"
      },
      "execution_count": null,
      "outputs": [
        {
          "output_type": "stream",
          "name": "stdout",
          "text": [
            "Model: \"sequential_5\"\n",
            "_________________________________________________________________\n",
            "Layer (type)                 Output Shape              Param #   \n",
            "=================================================================\n",
            "conv2d_13 (Conv2D)           (None, 28, 28, 32)        320       \n",
            "_________________________________________________________________\n",
            "max_pooling2d_13 (MaxPooling (None, 14, 14, 32)        0         \n",
            "_________________________________________________________________\n",
            "flatten_5 (Flatten)          (None, 6272)              0         \n",
            "_________________________________________________________________\n",
            "dense_5 (Dense)              (None, 10)                62730     \n",
            "=================================================================\n",
            "Total params: 63,050\n",
            "Trainable params: 63,050\n",
            "Non-trainable params: 0\n",
            "_________________________________________________________________\n",
            "Epoch 1/10\n",
            "339/339 [==============================] - 21s 61ms/step - loss: 2.7215 - accuracy: 0.8058 - val_loss: 0.7411 - val_accuracy: 0.8533\n",
            "Epoch 2/10\n",
            "339/339 [==============================] - 25s 74ms/step - loss: 0.5239 - accuracy: 0.8714 - val_loss: 0.5791 - val_accuracy: 0.8630\n",
            "Epoch 3/10\n",
            "339/339 [==============================] - 21s 62ms/step - loss: 0.3330 - accuracy: 0.8955 - val_loss: 0.4412 - val_accuracy: 0.8783\n",
            "Epoch 4/10\n",
            "339/339 [==============================] - 24s 70ms/step - loss: 0.2638 - accuracy: 0.9094 - val_loss: 0.4021 - val_accuracy: 0.8850\n",
            "Epoch 5/10\n",
            "339/339 [==============================] - 24s 71ms/step - loss: 0.2213 - accuracy: 0.9219 - val_loss: 0.3911 - val_accuracy: 0.8871\n",
            "Epoch 6/10\n",
            "339/339 [==============================] - 29s 86ms/step - loss: 0.2028 - accuracy: 0.9289 - val_loss: 0.3992 - val_accuracy: 0.8918\n",
            "Epoch 7/10\n",
            "339/339 [==============================] - 20s 59ms/step - loss: 0.1877 - accuracy: 0.9319 - val_loss: 0.3853 - val_accuracy: 0.8899\n",
            "Epoch 8/10\n",
            "339/339 [==============================] - 20s 59ms/step - loss: 0.1763 - accuracy: 0.9353 - val_loss: 0.4459 - val_accuracy: 0.8808\n",
            "Epoch 9/10\n",
            "339/339 [==============================] - 20s 59ms/step - loss: 0.1715 - accuracy: 0.9380 - val_loss: 0.4318 - val_accuracy: 0.8833\n",
            "Epoch 10/10\n",
            "339/339 [==============================] - 20s 58ms/step - loss: 0.1638 - accuracy: 0.9409 - val_loss: 0.4402 - val_accuracy: 0.8809\n",
            "Total training time: 4.377323408921559 minutes.\n"
          ]
        },
        {
          "output_type": "display_data",
          "data": {
            "text/plain": [
              "<Figure size 432x288 with 1 Axes>"
            ],
            "image/png": "[encoded data removed]"
          },
          "metadata": {
            "needs_background": "light"
          }
        }
      ]
    },
    {
      "cell_type": "code",
      "source": [
        "from tensorflow.python.keras import Sequential\n",
        "from tensorflow.python.keras.layers import Dense, Conv2D, Flatten, MaxPooling2D\n",
        "from keras import regularizers\n",
        "\n",
        "# Create model 3 with CNN layers / L2 regularization /3 conv layers\n",
        "title = 'model 3 with CNN layers / L2 regularization /3 conv layers'\n",
        "\n",
        "model = Sequential()\n",
        "\n",
        "# add a conv layer with \"same\" zero padding\n",
        "model.add(Conv2D(num_filters, kernel_size = kernel_size, activation = activation, padding = padding, input_shape = (28, 28, 1)))\n",
        "\n",
        "# Add a pooling layer\n",
        "model.add(MaxPooling2D(pool_size= pool_size))\n",
        "\n",
        "# Add a second conv layer with a stride of 2x2\n",
        "model.add(Conv2D(num_filters, kernel_size = kernel_size, activation = activation, padding = padding, strides = strides))\n",
        "\n",
        "# Add a pooling layer\n",
        "model.add(MaxPooling2D(pool_size = pool_size))\n",
        "\n",
        "# Add a third conv layer with a stride of 2x2\n",
        "model.add(Conv2D(num_filters, kernel_size = kernel_size, activation = activation, padding = padding, strides = strides))\n",
        "\n",
        "# Add a pooling layer\n",
        "model.add(MaxPooling2D(pool_size = pool_size))\n",
        "\n",
        "# Flatten the input\n",
        "model.add(Flatten())\n",
        "\n",
        "# Add L2 metod\n",
        "model.add(Dense(100, activation = activation, kernel_regularizer=regularizers.l2(0.00001)))\n",
        "\n",
        "# Regular FC layer with output size 10 (for the 10 digits)\n",
        "model.add(Dense(10, activation = \"softmax\"))\n",
        "\n",
        "# Print the summary of the model to view the shape and number of parameters\n",
        "model.summary()\n",
        "\n",
        "\n",
        "\n",
        "# Specify the optimizer\n",
        "model.compile(optimizer = opt, loss = loss, metrics = ['accuracy'])\n",
        "\n",
        "\n",
        "\n",
        "# Time how fast the model train\n",
        "start = time.time()\n",
        "\n",
        "# Train using adam\n",
        "model1 = model.fit(x_train, y_train, validation_split=0.15,batch_size = batch_size, epochs = epochs, verbose = 1)\n",
        "\n",
        "end = time.time()\n",
        "\n",
        "num_mins = (end-start)/60\n",
        "print(\"Total training time: \"  + str(num_mins) + \" minutes.\")\n",
        "\n",
        "\n",
        "\n",
        "\n",
        "# Evaluate the model \n",
        "#score = model.evaluate(x_test, y_test, verbose = 0)\n",
        "#print(\"Test loss: %.4f\" % score[0])\n",
        "#print(\"Accuracy: %.2f\" % (score[1] * 100.0))\n",
        "\n",
        "\n",
        "\n",
        "\n",
        "# Plot loss function (val vs test)\n",
        "from matplotlib import pyplot as plt\n",
        "\n",
        "plt.plot(model1.history[\"accuracy\"], color = \"red\", label = \"Training set\")\n",
        "plt.plot(model1.history[\"val_accuracy\"], color = \"orange\", label = \"Validation set\")\n",
        "\n",
        "plt.title(\"Training vs Validation set\\n\"+title)\n",
        "plt.ylabel(\"Accuracy\")\n",
        "plt.xlabel(\"Number of epochs\")\n",
        "plt.legend()\n",
        "plt.show()"
      ],
      "metadata": {
        "colab": {
          "base_uri": "https://localhost:8080/",
          "height": 1000
        },
        "id": "fJPir4PuIDzd",
        "outputId": "6a480867-037a-4908-bcfa-a6b8e95780b6"
      },
      "execution_count": null,
      "outputs": [
        {
          "output_type": "stream",
          "name": "stdout",
          "text": [
            "Model: \"sequential_6\"\n",
            "_________________________________________________________________\n",
            "Layer (type)                 Output Shape              Param #   \n",
            "=================================================================\n",
            "conv2d_14 (Conv2D)           (None, 28, 28, 32)        320       \n",
            "_________________________________________________________________\n",
            "max_pooling2d_14 (MaxPooling (None, 14, 14, 32)        0         \n",
            "_________________________________________________________________\n",
            "conv2d_15 (Conv2D)           (None, 7, 7, 32)          9248      \n",
            "_________________________________________________________________\n",
            "max_pooling2d_15 (MaxPooling (None, 3, 3, 32)          0         \n",
            "_________________________________________________________________\n",
            "conv2d_16 (Conv2D)           (None, 2, 2, 32)          9248      \n",
            "_________________________________________________________________\n",
            "max_pooling2d_16 (MaxPooling (None, 1, 1, 32)          0         \n",
            "_________________________________________________________________\n",
            "flatten_6 (Flatten)          (None, 32)                0         \n",
            "_________________________________________________________________\n",
            "dense_6 (Dense)              (None, 100)               3300      \n",
            "_________________________________________________________________\n",
            "dense_7 (Dense)              (None, 10)                1010      \n",
            "=================================================================\n",
            "Total params: 23,126\n",
            "Trainable params: 23,126\n",
            "Non-trainable params: 0\n",
            "_________________________________________________________________\n",
            "Epoch 1/10\n",
            "339/339 [==============================] - 33s 95ms/step - loss: 0.7773 - accuracy: 0.7419 - val_loss: 0.4916 - val_accuracy: 0.8278\n",
            "Epoch 2/10\n",
            "339/339 [==============================] - 35s 103ms/step - loss: 0.4438 - accuracy: 0.8384 - val_loss: 0.4320 - val_accuracy: 0.8463\n",
            "Epoch 3/10\n",
            "339/339 [==============================] - 30s 90ms/step - loss: 0.3899 - accuracy: 0.8585 - val_loss: 0.4034 - val_accuracy: 0.8612\n",
            "Epoch 4/10\n",
            "339/339 [==============================] - 27s 79ms/step - loss: 0.3516 - accuracy: 0.8733 - val_loss: 0.4043 - val_accuracy: 0.8614\n",
            "Epoch 5/10\n",
            "339/339 [==============================] - 26s 78ms/step - loss: 0.3257 - accuracy: 0.8823 - val_loss: 0.3916 - val_accuracy: 0.8625\n",
            "Epoch 6/10\n",
            "339/339 [==============================] - 26s 75ms/step - loss: 0.3095 - accuracy: 0.8876 - val_loss: 0.3787 - val_accuracy: 0.8685\n",
            "Epoch 7/10\n",
            "339/339 [==============================] - 25s 75ms/step - loss: 0.2976 - accuracy: 0.8900 - val_loss: 0.3535 - val_accuracy: 0.8775\n",
            "Epoch 8/10\n",
            "339/339 [==============================] - 25s 75ms/step - loss: 0.2807 - accuracy: 0.8969 - val_loss: 0.3550 - val_accuracy: 0.8796\n",
            "Epoch 9/10\n",
            "339/339 [==============================] - 27s 80ms/step - loss: 0.2702 - accuracy: 0.9002 - val_loss: 0.3546 - val_accuracy: 0.8767\n",
            "Epoch 10/10\n",
            "339/339 [==============================] - 25s 74ms/step - loss: 0.2602 - accuracy: 0.9017 - val_loss: 0.3679 - val_accuracy: 0.8746\n",
            "Total training time: 5.384840627511342 minutes.\n"
          ]
        },
        {
          "output_type": "display_data",
          "data": {
            "text/plain": [
              "<Figure size 432x288 with 1 Axes>"
            ],
            "image/png": "[encoded data removed]"
          },
          "metadata": {
            "needs_background": "light"
          }
        }
      ]
    },
    {
      "cell_type": "code",
      "source": [
        "# Create model 4 with CNN layers / L2 regularization / 1 conv layer\n",
        "\n",
        "title = '4 with CNN layers / L2 regularization / 1 conv layer'\n",
        "\n",
        "model = Sequential()\n",
        "\n",
        "# add a conv layer with \"same\" zero padding\n",
        "model.add(Conv2D(num_filters, kernel_size = kernel_size, activation = activation, padding = padding, input_shape = (28, 28, 1)))\n",
        "\n",
        "# Add a pooling layer\n",
        "model.add(MaxPooling2D(pool_size = pool_size))\n",
        "\n",
        "# Flatten the input\n",
        "model.add(Flatten())\n",
        "\n",
        "# Add L2 metod\n",
        "model.add(Dense(100, activation = activation, kernel_regularizer=regularizers.l2(0.00001)))\n",
        "\n",
        "# Regular FC layer with output size 10 (for the 10 digits)\n",
        "model.add(Dense(10, activation = \"softmax\"))\n",
        "\n",
        "# Print the summary of the model to view the shape and number of parameters\n",
        "model.summary()\n",
        "\n",
        "\n",
        "\n",
        "# Specify the optimizer\n",
        "model.compile(optimizer = opt, loss = loss, metrics = ['accuracy'])\n",
        "\n",
        "\n",
        "\n",
        "# Time how fast the model train\n",
        "start = time.time()\n",
        "\n",
        "# Train using adam\n",
        "model1 = model.fit(x_train, y_train, validation_split=0.15,batch_size = batch_size, epochs = epochs, verbose = 1)\n",
        "\n",
        "end = time.time()\n",
        "\n",
        "num_mins = (end-start)/60\n",
        "print(\"Total training time: \"  + str(num_mins) + \" minutes.\")\n",
        "\n",
        "\n",
        "\n",
        "\n",
        "# Evaluate the model \n",
        "#score = model.evaluate(x_test, y_test, verbose = 0)\n",
        "#print(\"Test loss: %.4f\" % score[0])\n",
        "#print(\"Accuracy: %.2f\" % (score[1] * 100.0))\n",
        "\n",
        "\n",
        "\n",
        "\n",
        "# Plot loss function (val vs test)\n",
        "from matplotlib import pyplot as plt\n",
        "\n",
        "plt.plot(model1.history[\"accuracy\"], color = \"red\", label = \"Training set\")\n",
        "plt.plot(model1.history[\"val_accuracy\"], color = \"orange\", label = \"Validation set\")\n",
        "\n",
        "plt.title(\"Training vs Validation set\\n\"+title)\n",
        "plt.ylabel(\"Loss\")\n",
        "plt.xlabel(\"Number of epochs\")\n",
        "plt.legend()\n",
        "plt.show()"
      ],
      "metadata": {
        "colab": {
          "base_uri": "https://localhost:8080/",
          "height": 1000
        },
        "id": "G7_q7f5yKtIv",
        "outputId": "91a214d8-0a62-4c58-881d-1f52887148e1"
      },
      "execution_count": null,
      "outputs": [
        {
          "output_type": "stream",
          "name": "stdout",
          "text": [
            "Model: \"sequential_7\"\n",
            "_________________________________________________________________\n",
            "Layer (type)                 Output Shape              Param #   \n",
            "=================================================================\n",
            "conv2d_17 (Conv2D)           (None, 28, 28, 32)        320       \n",
            "_________________________________________________________________\n",
            "max_pooling2d_17 (MaxPooling (None, 14, 14, 32)        0         \n",
            "_________________________________________________________________\n",
            "flatten_7 (Flatten)          (None, 6272)              0         \n",
            "_________________________________________________________________\n",
            "dense_8 (Dense)              (None, 100)               627300    \n",
            "_________________________________________________________________\n",
            "dense_9 (Dense)              (None, 10)                1010      \n",
            "=================================================================\n",
            "Total params: 628,630\n",
            "Trainable params: 628,630\n",
            "Non-trainable params: 0\n",
            "_________________________________________________________________\n",
            "Epoch 1/10\n",
            "339/339 [==============================] - 25s 73ms/step - loss: 2.0214 - accuracy: 0.8000 - val_loss: 0.4934 - val_accuracy: 0.8527\n",
            "Epoch 2/10\n",
            "339/339 [==============================] - 24s 72ms/step - loss: 0.3656 - accuracy: 0.8804 - val_loss: 0.3947 - val_accuracy: 0.8697\n",
            "Epoch 3/10\n",
            "339/339 [==============================] - 24s 72ms/step - loss: 0.2847 - accuracy: 0.9023 - val_loss: 0.3697 - val_accuracy: 0.8834\n",
            "Epoch 4/10\n",
            "339/339 [==============================] - 24s 72ms/step - loss: 0.2411 - accuracy: 0.9160 - val_loss: 0.3753 - val_accuracy: 0.8809\n",
            "Epoch 5/10\n",
            "339/339 [==============================] - 24s 71ms/step - loss: 0.2086 - accuracy: 0.9263 - val_loss: 0.3771 - val_accuracy: 0.8829\n",
            "Epoch 6/10\n",
            "339/339 [==============================] - 26s 75ms/step - loss: 0.1914 - accuracy: 0.9318 - val_loss: 0.3487 - val_accuracy: 0.8918\n",
            "Epoch 7/10\n",
            "339/339 [==============================] - 24s 72ms/step - loss: 0.1746 - accuracy: 0.9363 - val_loss: 0.3496 - val_accuracy: 0.8963\n",
            "Epoch 8/10\n",
            "339/339 [==============================] - 25s 73ms/step - loss: 0.1578 - accuracy: 0.9441 - val_loss: 0.3585 - val_accuracy: 0.8935\n",
            "Epoch 9/10\n",
            "339/339 [==============================] - 25s 73ms/step - loss: 0.1454 - accuracy: 0.9464 - val_loss: 0.3798 - val_accuracy: 0.8940\n",
            "Epoch 10/10\n",
            "339/339 [==============================] - 25s 72ms/step - loss: 0.1360 - accuracy: 0.9500 - val_loss: 0.4102 - val_accuracy: 0.8948\n",
            "Total training time: 4.374269696076711 minutes.\n"
          ]
        },
        {
          "output_type": "display_data",
          "data": {
            "text/plain": [
              "<Figure size 432x288 with 1 Axes>"
            ],
            "image/png": "[encoded data removed]"
          },
          "metadata": {
            "needs_background": "light"
          }
        }
      ]
    },
    {
      "cell_type": "code",
      "source": [
        "from tensorflow.python.keras import Sequential\n",
        "from tensorflow.python.keras.layers import Dense, Conv2D, Flatten, MaxPooling2D\n",
        "from tensorflow.keras.layers import Dropout\n",
        "\n",
        "# Create model 5 with CNN layers / Dropout /3 conv layers\n",
        "title = 'model 5 with CNN layers / Droput /3 conv layers'\n",
        "\n",
        "model = Sequential()\n",
        "\n",
        "# add a conv layer with \"same\" zero padding\n",
        "model.add(Conv2D(num_filters, kernel_size = kernel_size, activation = activation, padding = padding, input_shape = (28, 28, 1)))\n",
        "\n",
        "# Add a pooling layer\n",
        "model.add(MaxPooling2D(pool_size= pool_size))\n",
        "\n",
        "#Dropout\n",
        "model.add(Dropout(0.1))\n",
        "\n",
        "# Add a second conv layer with a stride of 2x2\n",
        "model.add(Conv2D(num_filters, kernel_size = kernel_size, activation = activation, padding = padding, strides = strides))\n",
        "\n",
        "# Add a pooling layer\n",
        "model.add(MaxPooling2D(pool_size = pool_size))\n",
        "\n",
        "#Dropout\n",
        "model.add(Dropout(0.1))\n",
        "\n",
        "# Add a third conv layer with a stride of 2x2\n",
        "model.add(Conv2D(num_filters, kernel_size = kernel_size, activation = activation, padding = padding, strides = strides))\n",
        "\n",
        "# Add a pooling layer\n",
        "model.add(MaxPooling2D(pool_size = pool_size))\n",
        "\n",
        "#Dropout\n",
        "model.add(Dropout(0.1))\n",
        "\n",
        "# Flatten the input\n",
        "model.add(Flatten())\n",
        "\n",
        "# Regular FC layer with output size 10 (for the 10 digits)\n",
        "model.add(Dense(10, activation = \"softmax\"))\n",
        "\n",
        "# Print the summary of the model to view the shape and number of parameters\n",
        "model.summary()\n",
        "\n",
        "\n",
        "\n",
        "# Specify the optimizer\n",
        "model.compile(optimizer = opt, loss = loss, metrics = ['accuracy'])\n",
        "\n",
        "\n",
        "\n",
        "# Time how fast the model train\n",
        "start = time.time()\n",
        "\n",
        "# Train using adam\n",
        "model1 = model.fit(x_train, y_train, validation_split=0.15,batch_size = batch_size, epochs = epochs, verbose = 1)\n",
        "\n",
        "end = time.time()\n",
        "\n",
        "num_mins = (end-start)/60\n",
        "print(\"Total training time: \"  + str(num_mins) + \" minutes.\")\n",
        "\n",
        "\n",
        "\n",
        "\n",
        "# Evaluate the model \n",
        "#score = model.evaluate(x_test, y_test, verbose = 0)\n",
        "#print(\"Test loss: %.4f\" % score[0])\n",
        "#print(\"Accuracy: %.2f\" % (score[1] * 100.0))\n",
        "\n",
        "\n",
        "\n",
        "\n",
        "# Plot loss function (val vs test)\n",
        "from matplotlib import pyplot as plt\n",
        "\n",
        "plt.plot(model1.history[\"accuracy\"], color = \"red\", label = \"Training set\")\n",
        "plt.plot(model1.history[\"val_accuracy\"], color = \"orange\", label = \"Validation set\")\n",
        "\n",
        "plt.title(\"Training vs Validation set\\n\"+title)\n",
        "plt.ylabel(\"Accuracy\")\n",
        "plt.xlabel(\"Number of epochs\")\n",
        "plt.legend()\n",
        "plt.show()"
      ],
      "metadata": {
        "colab": {
          "base_uri": "https://localhost:8080/",
          "height": 1000
        },
        "id": "7UHE7_KCK9lm",
        "outputId": "053472cf-893c-4495-b250-ba987076e5fa"
      },
      "execution_count": null,
      "outputs": [
        {
          "output_type": "stream",
          "name": "stdout",
          "text": [
            "Model: \"sequential_8\"\n",
            "_________________________________________________________________\n",
            "Layer (type)                 Output Shape              Param #   \n",
            "=================================================================\n",
            "conv2d_18 (Conv2D)           (None, 28, 28, 32)        320       \n",
            "_________________________________________________________________\n",
            "max_pooling2d_18 (MaxPooling (None, 14, 14, 32)        0         \n",
            "_________________________________________________________________\n",
            "module_wrapper (ModuleWrappe (None, 14, 14, 32)        0         \n",
            "_________________________________________________________________\n",
            "conv2d_19 (Conv2D)           (None, 7, 7, 32)          9248      \n",
            "_________________________________________________________________\n",
            "max_pooling2d_19 (MaxPooling (None, 3, 3, 32)          0         \n",
            "_________________________________________________________________\n",
            "module_wrapper_1 (ModuleWrap (None, 3, 3, 32)          0         \n",
            "_________________________________________________________________\n",
            "conv2d_20 (Conv2D)           (None, 2, 2, 32)          9248      \n",
            "_________________________________________________________________\n",
            "max_pooling2d_20 (MaxPooling (None, 1, 1, 32)          0         \n",
            "_________________________________________________________________\n",
            "module_wrapper_2 (ModuleWrap (None, 1, 1, 32)          0         \n",
            "_________________________________________________________________\n",
            "flatten_8 (Flatten)          (None, 32)                0         \n",
            "_________________________________________________________________\n",
            "dense_10 (Dense)             (None, 10)                330       \n",
            "=================================================================\n",
            "Total params: 19,146\n",
            "Trainable params: 19,146\n",
            "Non-trainable params: 0\n",
            "_________________________________________________________________\n",
            "Epoch 1/10\n",
            "339/339 [==============================] - 29s 85ms/step - loss: 1.7987 - accuracy: 0.5753 - val_loss: 0.6391 - val_accuracy: 0.7744\n",
            "Epoch 2/10\n",
            "339/339 [==============================] - 30s 88ms/step - loss: 0.6951 - accuracy: 0.7513 - val_loss: 0.5282 - val_accuracy: 0.8097\n",
            "Epoch 3/10\n",
            "339/339 [==============================] - 29s 84ms/step - loss: 0.5919 - accuracy: 0.7870 - val_loss: 0.4809 - val_accuracy: 0.8267\n",
            "Epoch 4/10\n",
            "339/339 [==============================] - 29s 84ms/step - loss: 0.5269 - accuracy: 0.8081 - val_loss: 0.4348 - val_accuracy: 0.8469\n",
            "Epoch 5/10\n",
            "339/339 [==============================] - 29s 85ms/step - loss: 0.4933 - accuracy: 0.8191 - val_loss: 0.4129 - val_accuracy: 0.8515\n",
            "Epoch 6/10\n",
            "339/339 [==============================] - 29s 84ms/step - loss: 0.4634 - accuracy: 0.8305 - val_loss: 0.4007 - val_accuracy: 0.8546\n",
            "Epoch 7/10\n",
            "339/339 [==============================] - 29s 85ms/step - loss: 0.4410 - accuracy: 0.8379 - val_loss: 0.3862 - val_accuracy: 0.8593\n",
            "Epoch 8/10\n",
            "339/339 [==============================] - 30s 88ms/step - loss: 0.4201 - accuracy: 0.8433 - val_loss: 0.3763 - val_accuracy: 0.8630\n",
            "Epoch 9/10\n",
            "339/339 [==============================] - 29s 84ms/step - loss: 0.4048 - accuracy: 0.8497 - val_loss: 0.3620 - val_accuracy: 0.8669\n",
            "Epoch 10/10\n",
            "339/339 [==============================] - 29s 84ms/step - loss: 0.3923 - accuracy: 0.8541 - val_loss: 0.3609 - val_accuracy: 0.8661\n",
            "Total training time: 4.822744429111481 minutes.\n"
          ]
        },
        {
          "output_type": "display_data",
          "data": {
            "text/plain": [
              "<Figure size 432x288 with 1 Axes>"
            ],
            "image/png": "[encoded data removed]"
          },
          "metadata": {
            "needs_background": "light"
          }
        }
      ]
    },
    {
      "cell_type": "code",
      "source": [
        "# Create model 6 with CNN layers / Dropout / 1 conv layer\n",
        "\n",
        "title = '6 with CNN layers / Dropout / 1 conv layer'\n",
        "\n",
        "model = Sequential()\n",
        "\n",
        "# add a conv layer with \"same\" zero padding\n",
        "model.add(Conv2D(num_filters, kernel_size = kernel_size, activation = activation, padding = padding, input_shape = (28, 28, 1)))\n",
        "\n",
        "# Add a pooling layer\n",
        "model.add(MaxPooling2D(pool_size = pool_size))\n",
        "\n",
        "#Dropout\n",
        "model.add(Dropout(0.1))\n",
        "\n",
        "# Flatten the input\n",
        "model.add(Flatten())\n",
        "\n",
        "# Regular FC layer with output size 10 (for the 10 digits)\n",
        "model.add(Dense(10, activation = \"softmax\"))\n",
        "\n",
        "# Print the summary of the model to view the shape and number of parameters\n",
        "model.summary()\n",
        "\n",
        "\n",
        "\n",
        "# Specify the optimizer\n",
        "model.compile(optimizer = opt, loss = loss, metrics = ['accuracy'])\n",
        "\n",
        "\n",
        "\n",
        "# Time how fast the model train\n",
        "start = time.time()\n",
        "\n",
        "# Train using adam\n",
        "model1 = model.fit(x_train, y_train, validation_split=0.15,batch_size = batch_size, epochs = epochs, verbose = 1)\n",
        "\n",
        "end = time.time()\n",
        "\n",
        "num_mins = (end-start)/60\n",
        "print(\"Total training time: \"  + str(num_mins) + \" minutes.\")\n",
        "\n",
        "\n",
        "\n",
        "\n",
        "# Evaluate the model \n",
        "#score = model.evaluate(x_test, y_test, verbose = 0)\n",
        "#print(\"Test loss: %.4f\" % score[0])\n",
        "#print(\"Accuracy: %.2f\" % (score[1] * 100.0))\n",
        "\n",
        "\n",
        "\n",
        "\n",
        "# Plot loss function (val vs test)\n",
        "from matplotlib import pyplot as plt\n",
        "\n",
        "plt.plot(model1.history[\"accuracy\"], color = \"red\", label = \"Training set\")\n",
        "plt.plot(model1.history[\"val_accuracy\"], color = \"orange\", label = \"Validation set\")\n",
        "\n",
        "plt.title(\"Training vs Validation set\\n\"+title)\n",
        "plt.ylabel(\"Accuracy\")\n",
        "plt.xlabel(\"Number of epochs\")\n",
        "plt.legend()\n",
        "plt.show()"
      ],
      "metadata": {
        "colab": {
          "base_uri": "https://localhost:8080/",
          "height": 1000
        },
        "id": "xw-dtWruLkWb",
        "outputId": "4f86759c-67c0-40ac-d53c-e48f03abae8d"
      },
      "execution_count": null,
      "outputs": [
        {
          "output_type": "stream",
          "name": "stdout",
          "text": [
            "Model: \"sequential_9\"\n",
            "_________________________________________________________________\n",
            "Layer (type)                 Output Shape              Param #   \n",
            "=================================================================\n",
            "conv2d_21 (Conv2D)           (None, 28, 28, 32)        320       \n",
            "_________________________________________________________________\n",
            "max_pooling2d_21 (MaxPooling (None, 14, 14, 32)        0         \n",
            "_________________________________________________________________\n",
            "module_wrapper_3 (ModuleWrap (None, 14, 14, 32)        0         \n",
            "_________________________________________________________________\n",
            "flatten_9 (Flatten)          (None, 6272)              0         \n",
            "_________________________________________________________________\n",
            "dense_11 (Dense)             (None, 10)                62730     \n",
            "=================================================================\n",
            "Total params: 63,050\n",
            "Trainable params: 63,050\n",
            "Non-trainable params: 0\n",
            "_________________________________________________________________\n",
            "Epoch 1/10\n",
            "339/339 [==============================] - 24s 69ms/step - loss: 3.4073 - accuracy: 0.7894 - val_loss: 0.6530 - val_accuracy: 0.8554\n",
            "Epoch 2/10\n",
            "339/339 [==============================] - 23s 68ms/step - loss: 0.4798 - accuracy: 0.8647 - val_loss: 0.4044 - val_accuracy: 0.8723\n",
            "Epoch 3/10\n",
            "339/339 [==============================] - 23s 68ms/step - loss: 0.3209 - accuracy: 0.8887 - val_loss: 0.3799 - val_accuracy: 0.8784\n",
            "Epoch 4/10\n",
            "339/339 [==============================] - 23s 68ms/step - loss: 0.2754 - accuracy: 0.8998 - val_loss: 0.3644 - val_accuracy: 0.8812\n",
            "Epoch 5/10\n",
            "339/339 [==============================] - 24s 72ms/step - loss: 0.2489 - accuracy: 0.9105 - val_loss: 0.3534 - val_accuracy: 0.8844\n",
            "Epoch 6/10\n",
            "339/339 [==============================] - 23s 68ms/step - loss: 0.2334 - accuracy: 0.9145 - val_loss: 0.3548 - val_accuracy: 0.8850\n",
            "Epoch 7/10\n",
            "339/339 [==============================] - 23s 68ms/step - loss: 0.2204 - accuracy: 0.9200 - val_loss: 0.3645 - val_accuracy: 0.8838\n",
            "Epoch 8/10\n",
            "339/339 [==============================] - 23s 68ms/step - loss: 0.2188 - accuracy: 0.9189 - val_loss: 0.3634 - val_accuracy: 0.8868\n",
            "Epoch 9/10\n",
            "339/339 [==============================] - 23s 68ms/step - loss: 0.2083 - accuracy: 0.9230 - val_loss: 0.3694 - val_accuracy: 0.8865\n",
            "Epoch 10/10\n",
            "339/339 [==============================] - 23s 68ms/step - loss: 0.2033 - accuracy: 0.9235 - val_loss: 0.3752 - val_accuracy: 0.8851\n",
            "Total training time: 4.373109606901805 minutes.\n"
          ]
        },
        {
          "output_type": "display_data",
          "data": {
            "text/plain": [
              "<Figure size 432x288 with 1 Axes>"
            ],
            "image/png": "[encoded data removed]"
          },
          "metadata": {
            "needs_background": "light"
          }
        }
      ]
    },
    {
      "cell_type": "code",
      "source": [
        "# Create model 7 with CNN layers / Early Stopping /3 conv layers\n",
        "\n",
        "from tensorflow.python.keras.callbacks import EarlyStopping, ModelCheckpoint\n",
        "\n",
        "title = 'model 7 with CNN layers / Early Stopping /3 conv layers'\n",
        "\n",
        "model = Sequential()\n",
        "\n",
        "# add a conv layer with \"same\" zero padding\n",
        "model.add(Conv2D(num_filters, kernel_size = kernel_size, activation = activation, padding = padding, input_shape = (28, 28, 1)))\n",
        "\n",
        "# Add a pooling layer\n",
        "model.add(MaxPooling2D(pool_size= pool_size))\n",
        "\n",
        "# Add a second conv layer with a stride of 2x2\n",
        "model.add(Conv2D(num_filters, kernel_size = kernel_size, activation = activation, padding = padding, strides = strides))\n",
        "\n",
        "# Add a pooling layer\n",
        "model.add(MaxPooling2D(pool_size = pool_size))\n",
        "\n",
        "# Add a third conv layer with a stride of 2x2\n",
        "model.add(Conv2D(num_filters, kernel_size = kernel_size, activation = activation, padding = padding, strides = strides))\n",
        "\n",
        "# Add a pooling layer\n",
        "model.add(MaxPooling2D(pool_size = pool_size))\n",
        "\n",
        "# Flatten the input\n",
        "model.add(Flatten())\n",
        "\n",
        "# Regular FC layer with output size 10 (for the 10 digits)\n",
        "model.add(Dense(10, activation = \"softmax\"))\n",
        "\n",
        "# Print the summary of the model to view the shape and number of parameters\n",
        "model.summary()\n",
        "\n",
        "\n",
        "#Early Stopping\n",
        "\n",
        "es = EarlyStopping(monitor = \"val_loss\", mode = \"min\", verbose = 1, restore_best_weights=True, patience = 1)\n",
        "mc = ModelCheckpoint(\"best_model_tutorial\", monitor = \"val_loss\", save_best_only = True, mode = \"min\")\n",
        "\n",
        "\n",
        "# Specify the optimizer\n",
        "model.compile(optimizer = opt, loss = loss, metrics = ['accuracy'])\n",
        "\n",
        "\n",
        "\n",
        "# Time how fast the model train\n",
        "start = time.time()\n",
        "\n",
        "# Train using adam\n",
        "model1 = model.fit(x_train, y_train, validation_split=0.15,batch_size = batch_size, epochs = epochs, verbose = 1)\n",
        "\n",
        "end = time.time()\n",
        "\n",
        "num_mins = (end-start)/60\n",
        "print(\"Total training time: \"  + str(num_mins) + \" minutes.\")\n",
        "\n",
        "\n",
        "\n",
        "\n",
        "# Evaluate the model \n",
        "#score = model.evaluate(x_test, y_test, verbose = 0)\n",
        "#print(\"Test loss: %.4f\" % score[0])\n",
        "#print(\"Accuracy: %.2f\" % (score[1] * 100.0))\n",
        "\n",
        "\n",
        "\n",
        "\n",
        "# Plot loss function (val vs test)\n",
        "from matplotlib import pyplot as plt\n",
        "\n",
        "plt.plot(model1.history[\"accuracy\"], color = \"red\", label = \"Training set\")\n",
        "plt.plot(model1.history[\"val_accuracy\"], color = \"orange\", label = \"Validation set\")\n",
        "\n",
        "plt.title(\"Training vs Validation set\\n\"+title)\n",
        "plt.ylabel(\"Accuracy\")\n",
        "plt.xlabel(\"Number of epochs\")\n",
        "plt.legend()\n",
        "plt.show()"
      ],
      "metadata": {
        "colab": {
          "base_uri": "https://localhost:8080/",
          "height": 1000
        },
        "id": "_Y9ETBG5MMvt",
        "outputId": "307064af-b4a2-453a-a31d-4a15f6605c83"
      },
      "execution_count": null,
      "outputs": [
        {
          "output_type": "stream",
          "name": "stdout",
          "text": [
            "Model: \"sequential_2\"\n",
            "_________________________________________________________________\n",
            "Layer (type)                 Output Shape              Param #   \n",
            "=================================================================\n",
            "conv2d (Conv2D)              (None, 28, 28, 32)        320       \n",
            "_________________________________________________________________\n",
            "max_pooling2d (MaxPooling2D) (None, 14, 14, 32)        0         \n",
            "_________________________________________________________________\n",
            "conv2d_1 (Conv2D)            (None, 7, 7, 32)          9248      \n",
            "_________________________________________________________________\n",
            "max_pooling2d_1 (MaxPooling2 (None, 3, 3, 32)          0         \n",
            "_________________________________________________________________\n",
            "conv2d_2 (Conv2D)            (None, 2, 2, 32)          9248      \n",
            "_________________________________________________________________\n",
            "max_pooling2d_2 (MaxPooling2 (None, 1, 1, 32)          0         \n",
            "_________________________________________________________________\n",
            "flatten (Flatten)            (None, 32)                0         \n",
            "_________________________________________________________________\n",
            "dense (Dense)                (None, 10)                330       \n",
            "=================================================================\n",
            "Total params: 19,146\n",
            "Trainable params: 19,146\n",
            "Non-trainable params: 0\n",
            "_________________________________________________________________\n",
            "Epoch 1/10\n",
            "339/339 [==============================] - 27s 77ms/step - loss: 1.3704 - accuracy: 0.7090 - val_loss: 0.5477 - val_accuracy: 0.8078\n",
            "Epoch 2/10\n",
            "339/339 [==============================] - 26s 75ms/step - loss: 0.4892 - accuracy: 0.8274 - val_loss: 0.4477 - val_accuracy: 0.8448\n",
            "Epoch 3/10\n",
            "339/339 [==============================] - 25s 73ms/step - loss: 0.4236 - accuracy: 0.8501 - val_loss: 0.4377 - val_accuracy: 0.8448\n",
            "Epoch 4/10\n",
            "339/339 [==============================] - 25s 73ms/step - loss: 0.3851 - accuracy: 0.8628 - val_loss: 0.4094 - val_accuracy: 0.8527\n",
            "Epoch 5/10\n",
            "339/339 [==============================] - 25s 73ms/step - loss: 0.3625 - accuracy: 0.8700 - val_loss: 0.3941 - val_accuracy: 0.8616\n",
            "Epoch 6/10\n",
            "339/339 [==============================] - 25s 72ms/step - loss: 0.3376 - accuracy: 0.8789 - val_loss: 0.3653 - val_accuracy: 0.8732\n",
            "Epoch 7/10\n",
            "339/339 [==============================] - 24s 72ms/step - loss: 0.3236 - accuracy: 0.8837 - val_loss: 0.3699 - val_accuracy: 0.8703\n",
            "Epoch 8/10\n",
            "339/339 [==============================] - 24s 72ms/step - loss: 0.3045 - accuracy: 0.8888 - val_loss: 0.3665 - val_accuracy: 0.8735\n",
            "Epoch 9/10\n",
            "339/339 [==============================] - 24s 72ms/step - loss: 0.2911 - accuracy: 0.8943 - val_loss: 0.3514 - val_accuracy: 0.8765\n",
            "Epoch 10/10\n",
            "339/339 [==============================] - 24s 72ms/step - loss: 0.2775 - accuracy: 0.8982 - val_loss: 0.3600 - val_accuracy: 0.8783\n",
            "Total training time: 4.378224221865336 minutes.\n"
          ]
        },
        {
          "output_type": "display_data",
          "data": {
            "text/plain": [
              "<Figure size 432x288 with 1 Axes>"
            ],
            "image/png": "[encoded data removed]"
          },
          "metadata": {
            "needs_background": "light"
          }
        }
      ]
    },
    {
      "cell_type": "code",
      "source": [
        "# Create model 8 with CNN layers / / Early Stopping / 1 conv layer\n",
        "\n",
        "title = 'model 8 with CNN layers / / Early Stopping / 1 conv layer'\n",
        "\n",
        "model = Sequential()\n",
        "\n",
        "# add a conv layer with \"same\" zero padding\n",
        "model.add(Conv2D(num_filters, kernel_size = kernel_size, activation = activation, padding = padding, input_shape = (28, 28, 1)))\n",
        "\n",
        "# Add a pooling layer\n",
        "model.add(MaxPooling2D(pool_size = pool_size))\n",
        "\n",
        "# Flatten the input\n",
        "model.add(Flatten())\n",
        "\n",
        "# Regular FC layer with output size 10 (for the 10 digits)\n",
        "model.add(Dense(10, activation = \"softmax\"))\n",
        "\n",
        "# Print the summary of the model to view the shape and number of parameters\n",
        "model.summary()\n",
        "\n",
        "\n",
        "#Early Stopping\n",
        "\n",
        "es = EarlyStopping(monitor = \"val_loss\", mode = \"min\", verbose = 1, restore_best_weights=True, patience = 1)\n",
        "mc = ModelCheckpoint(\"best_model_tutorial\", monitor = \"val_loss\", save_best_only = True, mode = \"min\")\n",
        "\n",
        "\n",
        "\n",
        "# Specify the optimizer\n",
        "model.compile(optimizer = opt, loss = loss, metrics = ['accuracy'])\n",
        "\n",
        "\n",
        "\n",
        "# Time how fast the model train\n",
        "start = time.time()\n",
        "\n",
        "# Train using adam\n",
        "model1 = model.fit(x_train, y_train, validation_split=0.15,batch_size = batch_size, epochs = epochs, verbose = 1)\n",
        "\n",
        "end = time.time()\n",
        "\n",
        "num_mins = (end-start)/60\n",
        "print(\"Total training time: \"  + str(num_mins) + \" minutes.\")\n",
        "\n",
        "\n",
        "\n",
        "\n",
        "# Evaluate the model \n",
        "#score = model.evaluate(x_test, y_test, verbose = 0)\n",
        "#print(\"Test loss: %.4f\" % score[0])\n",
        "#print(\"Accuracy: %.2f\" % (score[1] * 100.0))\n",
        "\n",
        "\n",
        "\n",
        "\n",
        "# Plot loss function (val vs test)\n",
        "from matplotlib import pyplot as plt\n",
        "\n",
        "plt.plot(model1.history[\"accuracy\"], color = \"red\", label = \"Training set\")\n",
        "plt.plot(model1.history[\"val_accuracy\"], color = \"orange\", label = \"Validation set\")\n",
        "\n",
        "plt.title(\"Training vs Validation set\\n\"+title)\n",
        "plt.ylabel(\"Accuracy\")\n",
        "plt.xlabel(\"Number of epochs\")\n",
        "plt.legend()\n",
        "plt.show()"
      ],
      "metadata": {
        "colab": {
          "base_uri": "https://localhost:8080/",
          "height": 972
        },
        "id": "5418YlUHPYtl",
        "outputId": "50c1c4b2-2bc9-4081-a243-b12cbe374266"
      },
      "execution_count": null,
      "outputs": [
        {
          "output_type": "stream",
          "name": "stdout",
          "text": [
            "Model: \"sequential_3\"\n",
            "_________________________________________________________________\n",
            "Layer (type)                 Output Shape              Param #   \n",
            "=================================================================\n",
            "conv2d_3 (Conv2D)            (None, 28, 28, 32)        320       \n",
            "_________________________________________________________________\n",
            "max_pooling2d_3 (MaxPooling2 (None, 14, 14, 32)        0         \n",
            "_________________________________________________________________\n",
            "flatten_1 (Flatten)          (None, 6272)              0         \n",
            "_________________________________________________________________\n",
            "dense_1 (Dense)              (None, 10)                62730     \n",
            "=================================================================\n",
            "Total params: 63,050\n",
            "Trainable params: 63,050\n",
            "Non-trainable params: 0\n",
            "_________________________________________________________________\n",
            "Epoch 1/10\n",
            "339/339 [==============================] - 20s 58ms/step - loss: 4.0163 - accuracy: 0.7961 - val_loss: 0.9317 - val_accuracy: 0.8488\n",
            "Epoch 2/10\n",
            "339/339 [==============================] - 19s 57ms/step - loss: 0.5709 - accuracy: 0.8686 - val_loss: 0.5362 - val_accuracy: 0.8660\n",
            "Epoch 3/10\n",
            "339/339 [==============================] - 19s 57ms/step - loss: 0.3604 - accuracy: 0.8904 - val_loss: 0.4838 - val_accuracy: 0.8688\n",
            "Epoch 4/10\n",
            "339/339 [==============================] - 19s 57ms/step - loss: 0.2782 - accuracy: 0.9084 - val_loss: 0.4454 - val_accuracy: 0.8766\n",
            "Epoch 5/10\n",
            "339/339 [==============================] - 19s 57ms/step - loss: 0.2397 - accuracy: 0.9174 - val_loss: 0.4185 - val_accuracy: 0.8818\n",
            "Epoch 6/10\n",
            "339/339 [==============================] - 19s 57ms/step - loss: 0.2139 - accuracy: 0.9247 - val_loss: 0.4197 - val_accuracy: 0.8868\n",
            "Epoch 7/10\n",
            "339/339 [==============================] - 19s 56ms/step - loss: 0.1941 - accuracy: 0.9308 - val_loss: 0.4116 - val_accuracy: 0.8861\n",
            "Epoch 8/10\n",
            "339/339 [==============================] - 19s 57ms/step - loss: 0.1895 - accuracy: 0.9320 - val_loss: 0.4002 - val_accuracy: 0.8918\n",
            "Epoch 9/10\n",
            "339/339 [==============================] - 19s 57ms/step - loss: 0.1761 - accuracy: 0.9369 - val_loss: 0.4249 - val_accuracy: 0.8848\n",
            "Epoch 10/10\n",
            "339/339 [==============================] - 19s 56ms/step - loss: 0.1656 - accuracy: 0.9401 - val_loss: 0.4503 - val_accuracy: 0.8792\n",
            "Total training time: 3.372301439444224 minutes.\n"
          ]
        },
        {
          "output_type": "display_data",
          "data": {
            "text/plain": [
              "<Figure size 432x288 with 1 Axes>"
            ],
            "image/png": "[encoded data removed]"
          },
          "metadata": {
            "needs_background": "light"
          }
        }
      ]
    },
    {
      "cell_type": "markdown",
      "source": [],
      "metadata": {
        "id": "e1UJuVrTQSws"
      }
    },
    {
      "cell_type": "markdown",
      "source": [
        "### TOP-PERFORMING MODEL"
      ],
      "metadata": {
        "id": "DrUDPoVOQUSe"
      }
    },
    {
      "cell_type": "code",
      "source": [
        "# Training on the whole train dataset on the top performing model from the experiments\n",
        "\n",
        "# Create model 4 with CNN layers / L2 regularization / 1 conv layer\n",
        "\n",
        "title = '4 with CNN layers / L2 regularization / 1 conv layer'\n",
        "\n",
        "model = Sequential()\n",
        "\n",
        "# add a conv layer with \"same\" zero padding\n",
        "model.add(Conv2D(num_filters, kernel_size = kernel_size, activation = activation, padding = padding, input_shape = (28, 28, 1)))\n",
        "\n",
        "# Add a pooling layer\n",
        "model.add(MaxPooling2D(pool_size = pool_size))\n",
        "\n",
        "# Flatten the input\n",
        "model.add(Flatten())\n",
        "\n",
        "# Add L2 metod\n",
        "model.add(Dense(100, activation = activation, kernel_regularizer=regularizers.l2(0.00001)))\n",
        "\n",
        "# Regular FC layer with output size 10 (for the 10 digits)\n",
        "model.add(Dense(10, activation = \"softmax\"))\n",
        "\n",
        "# Print the summary of the model to view the shape and number of parameters\n",
        "model.summary()\n",
        "\n",
        "\n",
        "\n",
        "# Specify the optimizer\n",
        "model.compile(optimizer = opt, loss = loss, metrics = ['accuracy'])\n",
        "\n",
        "\n",
        "\n",
        "# Time how fast the model train\n",
        "start = time.time()\n",
        "\n",
        "# Train using adam\n",
        "top_model = model.fit(x_train, y_train, batch_size = batch_size, epochs = epochs, verbose = 1)\n",
        "\n",
        "end = time.time()\n",
        "\n",
        "num_mins = (end-start)/60\n",
        "print(\"Total training time: \"  + str(num_mins) + \" minutes.\")\n",
        "\n",
        "\n",
        "\n",
        "\n",
        "# Evaluate the model \n",
        "score = model.evaluate(x_test, y_test, verbose = 0)\n",
        "print(\"Test loss: %.4f\" % score[0])\n",
        "print(\"Test accuracy: %.2f\" % (score[1] * 100.0))\n",
        "\n",
        "\n",
        "\n",
        "\n",
        "# Plot loss function (val vs test)\n",
        "from matplotlib import pyplot as plt\n",
        "\n",
        "plt.plot(top_model.history[\"accuracy\"], color = \"red\", label = \"Accuracy\")\n",
        "plt.plot(top_model.history[\"loss\"], color = \"orange\", label = \"Loss\")\n",
        "\n",
        "plt.title(\"Training vs Validation set\\n\"+title)\n",
        "plt.ylabel(\"Performance\")\n",
        "plt.xlabel(\"Number of epochs\")\n",
        "plt.legend()\n",
        "plt.show()"
      ],
      "metadata": {
        "id": "VSwpwICBQYkG",
        "colab": {
          "base_uri": "https://localhost:8080/",
          "height": 1000
        },
        "outputId": "f7e9c343-ce46-431f-d54a-a04ddab77a7c"
      },
      "execution_count": 20,
      "outputs": [
        {
          "output_type": "stream",
          "name": "stdout",
          "text": [
            "Model: \"sequential_7\"\n",
            "_________________________________________________________________\n",
            "Layer (type)                 Output Shape              Param #   \n",
            "=================================================================\n",
            "conv2d_7 (Conv2D)            (None, 28, 28, 32)        320       \n",
            "_________________________________________________________________\n",
            "max_pooling2d_7 (MaxPooling2 (None, 14, 14, 32)        0         \n",
            "_________________________________________________________________\n",
            "flatten_5 (Flatten)          (None, 6272)              0         \n",
            "_________________________________________________________________\n",
            "dense_4 (Dense)              (None, 100)               627300    \n",
            "_________________________________________________________________\n",
            "dense_5 (Dense)              (None, 10)                1010      \n",
            "=================================================================\n",
            "Total params: 628,630\n",
            "Trainable params: 628,630\n",
            "Non-trainable params: 0\n",
            "_________________________________________________________________\n",
            "Epoch 1/10\n",
            "399/399 [==============================] - 28s 70ms/step - loss: 2.5558 - accuracy: 0.8069\n",
            "Epoch 2/10\n",
            "399/399 [==============================] - 26s 65ms/step - loss: 0.3379 - accuracy: 0.8857\n",
            "Epoch 3/10\n",
            "399/399 [==============================] - 26s 64ms/step - loss: 0.2621 - accuracy: 0.9069\n",
            "Epoch 4/10\n",
            "399/399 [==============================] - 28s 69ms/step - loss: 0.2254 - accuracy: 0.9186\n",
            "Epoch 5/10\n",
            "399/399 [==============================] - 26s 65ms/step - loss: 0.2028 - accuracy: 0.9266\n",
            "Epoch 6/10\n",
            "399/399 [==============================] - 26s 65ms/step - loss: 0.1795 - accuracy: 0.9334\n",
            "Epoch 7/10\n",
            "399/399 [==============================] - 26s 65ms/step - loss: 0.1691 - accuracy: 0.9393\n",
            "Epoch 8/10\n",
            "399/399 [==============================] - 26s 65ms/step - loss: 0.1529 - accuracy: 0.9445\n",
            "Epoch 9/10\n",
            "399/399 [==============================] - 26s 65ms/step - loss: 0.1440 - accuracy: 0.9473\n",
            "Epoch 10/10\n",
            "399/399 [==============================] - 26s 66ms/step - loss: 0.1384 - accuracy: 0.9504\n",
            "Total training time: 5.373602437973022 minutes.\n",
            "Test loss: 0.3863\n",
            "Test accuracy: 89.24\n"
          ]
        },
        {
          "output_type": "display_data",
          "data": {
            "text/plain": [
              "<Figure size 432x288 with 1 Axes>"
            ],
            "image/png": "[encoded data removed]"
          },
          "metadata": {
            "needs_background": "light"
          }
        }
      ]
    },
    {
      "cell_type": "markdown",
      "source": [
        "# Interpreting CNN Representations / Code Part II"
      ],
      "metadata": {
        "id": "SVpGs3_FRjtt"
      }
    },
    {
      "cell_type": "code",
      "source": [
        "# Training on the whole train dataset on the top performing model from the experiments\n",
        "# Creating a new model with the bse of best oerformning model\n",
        "# Create new model with CNN layers / L2 regularization / 1 conv layer\n",
        "\n",
        "title = 'model with CNN layers / L2 regularization / 1 conv layer'\n",
        "\n",
        "model = Sequential()\n",
        "\n",
        "# add a conv layer with \"same\" zero padding\n",
        "model.add(Conv2D(num_filters, kernel_size = kernel_size, activation = activation, padding = padding, input_shape = (28, 28, 1)))\n",
        "\n",
        "# Add a pooling layer\n",
        "model.add(MaxPooling2D(pool_size = pool_size))\n",
        "\n",
        "# add a conv layer with \"same\" zero padding\n",
        "model.add(Conv2D(num_filters, kernel_size = kernel_size, activation = activation, padding = padding, input_shape = (28, 28, 1)))\n",
        "\n",
        "# Add a pooling layer\n",
        "model.add(MaxPooling2D(pool_size = pool_size))\n",
        "\n",
        "# add a conv layer with \"same\" zero padding\n",
        "model.add(Conv2D(num_filters, kernel_size = kernel_size, activation = activation, padding = padding, input_shape = (28, 28, 1)))\n",
        "\n",
        "# Add a pooling layer\n",
        "model.add(MaxPooling2D(pool_size = pool_size))\n",
        "\n",
        "# add a conv layer with \"same\" zero padding\n",
        "model.add(Conv2D(num_filters, kernel_size = kernel_size, activation = activation, padding = padding, input_shape = (28, 28, 1)))\n",
        "\n",
        "# Add a pooling layer\n",
        "model.add(MaxPooling2D(pool_size = pool_size))\n",
        "\n",
        "# Flatten the input\n",
        "model.add(Flatten())\n",
        "\n",
        "# Add L2 metod\n",
        "model.add(Dense(100, activation = activation, kernel_regularizer=regularizers.l2(0.00001)))\n",
        "\n",
        "# Regular FC layer with output size 10 (for the 10 digits)\n",
        "model.add(Dense(10, activation = \"softmax\"))\n",
        "\n",
        "# Print the summary of the model to view the shape and number of parameters\n",
        "model.summary()\n",
        "\n",
        "\n",
        "\n",
        "# Specify the optimizer\n",
        "model.compile(optimizer = opt, loss = loss, metrics = ['accuracy'])\n",
        "\n",
        "\n",
        "\n",
        "# Time how fast the model train\n",
        "start = time.time()\n",
        "\n",
        "# Train using adam\n",
        "history = model.fit(x_train, y_train, batch_size = batch_size, epochs = epochs, verbose = 1)\n",
        "\n",
        "end = time.time()\n",
        "\n",
        "num_mins = (end-start)/60\n",
        "print(\"Total training time: \"  + str(num_mins) + \" minutes.\")"
      ],
      "metadata": {
        "colab": {
          "base_uri": "https://localhost:8080/",
          "height": 1000
        },
        "id": "ZKG1hALWiahG",
        "outputId": "43efbbab-3f89-4025-85cc-d6f7cfd5b25a"
      },
      "execution_count": 135,
      "outputs": [
        {
          "output_type": "stream",
          "name": "stdout",
          "text": [
            "Model: \"sequential_12\"\n",
            "_________________________________________________________________\n",
            "Layer (type)                 Output Shape              Param #   \n",
            "=================================================================\n",
            "conv2d_16 (Conv2D)           (None, 28, 28, 32)        320       \n",
            "_________________________________________________________________\n",
            "max_pooling2d_16 (MaxPooling (None, 14, 14, 32)        0         \n",
            "_________________________________________________________________\n",
            "conv2d_17 (Conv2D)           (None, 14, 14, 32)        9248      \n",
            "_________________________________________________________________\n",
            "max_pooling2d_17 (MaxPooling (None, 7, 7, 32)          0         \n",
            "_________________________________________________________________\n",
            "conv2d_18 (Conv2D)           (None, 7, 7, 32)          9248      \n",
            "_________________________________________________________________\n",
            "max_pooling2d_18 (MaxPooling (None, 3, 3, 32)          0         \n",
            "_________________________________________________________________\n",
            "conv2d_19 (Conv2D)           (None, 3, 3, 32)          9248      \n",
            "_________________________________________________________________\n",
            "max_pooling2d_19 (MaxPooling (None, 1, 1, 32)          0         \n",
            "_________________________________________________________________\n",
            "flatten_9 (Flatten)          (None, 32)                0         \n",
            "_________________________________________________________________\n",
            "dense_12 (Dense)             (None, 100)               3300      \n",
            "_________________________________________________________________\n",
            "dense_13 (Dense)             (None, 10)                1010      \n",
            "=================================================================\n",
            "Total params: 32,374\n",
            "Trainable params: 32,374\n",
            "Non-trainable params: 0\n",
            "_________________________________________________________________\n",
            "Epoch 1/10\n",
            "399/399 [==============================] - 49s 122ms/step - loss: 0.6694 - accuracy: 0.7729\n",
            "Epoch 2/10\n",
            "399/399 [==============================] - 48s 120ms/step - loss: 0.3855 - accuracy: 0.8615\n",
            "Epoch 3/10\n",
            "399/399 [==============================] - 48s 120ms/step - loss: 0.3275 - accuracy: 0.8812\n",
            "Epoch 4/10\n",
            "399/399 [==============================] - 49s 122ms/step - loss: 0.2959 - accuracy: 0.8922\n",
            "Epoch 5/10\n",
            "399/399 [==============================] - 48s 120ms/step - loss: 0.2733 - accuracy: 0.9011\n",
            "Epoch 6/10\n",
            "399/399 [==============================] - 48s 120ms/step - loss: 0.2584 - accuracy: 0.9070\n",
            "Epoch 7/10\n",
            "399/399 [==============================] - 48s 120ms/step - loss: 0.2394 - accuracy: 0.9123\n",
            "Epoch 8/10\n",
            "399/399 [==============================] - 49s 122ms/step - loss: 0.2296 - accuracy: 0.9157\n",
            "Epoch 9/10\n",
            "399/399 [==============================] - 48s 120ms/step - loss: 0.2166 - accuracy: 0.9209\n",
            "Epoch 10/10\n",
            "399/399 [==============================] - 48s 120ms/step - loss: 0.2104 - accuracy: 0.9212\n",
            "Total training time: 8.37537084420522 minutes.\n"
          ]
        },
        {
          "output_type": "execute_result",
          "data": {
            "text/plain": [
              "'from matplotlib import pyplot as plt\\n\\nplt.plot(top_model_visual.history[\"accuracy\"], color = \"red\", label = \"Accuracy\")\\nplt.plot(top_model_visual.history[\"loss\"], color = \"orange\", label = \"Loss\")\\n\\nplt.title(\"Training vs Validation set\\n\"+title)\\nplt.ylabel(\"Performance\")\\nplt.xlabel(\"Number of epochs\")\\nplt.legend()\\nplt.show()'"
            ],
            "application/vnd.google.colaboratory.intrinsic+json": {
              "type": "string"
            }
          },
          "metadata": {},
          "execution_count": 135
        }
      ]
    },
    {
      "cell_type": "code",
      "source": [
        "# Printing model summary once again\n",
        "\n",
        "model.summary()"
      ],
      "metadata": {
        "colab": {
          "base_uri": "https://localhost:8080/"
        },
        "id": "t5tF46iKpyno",
        "outputId": "f86baf1e-203f-47bf-cfe9-c96e6701d48a"
      },
      "execution_count": 136,
      "outputs": [
        {
          "output_type": "stream",
          "name": "stdout",
          "text": [
            "Model: \"sequential_12\"\n",
            "_________________________________________________________________\n",
            "Layer (type)                 Output Shape              Param #   \n",
            "=================================================================\n",
            "conv2d_16 (Conv2D)           (None, 28, 28, 32)        320       \n",
            "_________________________________________________________________\n",
            "max_pooling2d_16 (MaxPooling (None, 14, 14, 32)        0         \n",
            "_________________________________________________________________\n",
            "conv2d_17 (Conv2D)           (None, 14, 14, 32)        9248      \n",
            "_________________________________________________________________\n",
            "max_pooling2d_17 (MaxPooling (None, 7, 7, 32)          0         \n",
            "_________________________________________________________________\n",
            "conv2d_18 (Conv2D)           (None, 7, 7, 32)          9248      \n",
            "_________________________________________________________________\n",
            "max_pooling2d_18 (MaxPooling (None, 3, 3, 32)          0         \n",
            "_________________________________________________________________\n",
            "conv2d_19 (Conv2D)           (None, 3, 3, 32)          9248      \n",
            "_________________________________________________________________\n",
            "max_pooling2d_19 (MaxPooling (None, 1, 1, 32)          0         \n",
            "_________________________________________________________________\n",
            "flatten_9 (Flatten)          (None, 32)                0         \n",
            "_________________________________________________________________\n",
            "dense_12 (Dense)             (None, 100)               3300      \n",
            "_________________________________________________________________\n",
            "dense_13 (Dense)             (None, 10)                1010      \n",
            "=================================================================\n",
            "Total params: 32,374\n",
            "Trainable params: 32,374\n",
            "Non-trainable params: 0\n",
            "_________________________________________________________________\n"
          ]
        }
      ]
    },
    {
      "cell_type": "markdown",
      "source": [
        "### Visualizing Convolutional Layers"
      ],
      "metadata": {
        "id": "Yo7bRqgm1Xt6"
      }
    },
    {
      "cell_type": "code",
      "source": [
        "# summarize filter shapes\n",
        "for layer in model.layers:\n",
        "\t# check for convolutional layer\n",
        "\tif 'conv' not in layer.name:\n",
        "\t\tcontinue\n",
        "\t# get filter weights\n",
        "\tfilters, biases = layer.get_weights()\n",
        "\tprint(layer.name, filters.shape)\n",
        " \n",
        "\n",
        " # retrieve weights from the first conv layer\n",
        "filters , bias = model.layers[2].get_weights()\n",
        "\n",
        "\n",
        "# normalize filter values to 0-1 so we can visualize them\n",
        "f_min, f_max = filters.min(), filters.max()\n",
        "filters = (filters - f_min) / (f_max - f_min)\n",
        "\n",
        "\n",
        "n_filters =6\n",
        "ix=1\n",
        "fig = plt.figure(figsize=(20,15))\n",
        "for i in range(n_filters):\n",
        "    # get the filters\n",
        "    f = filters[:,:,:,i]\n",
        "    for j in range(3):\n",
        "        # subplot for 6 filters and 3 channels\n",
        "        plt.subplot(n_filters,3,ix)\n",
        "        plt.imshow(f[:,:,j] ,cmap='gray')\n",
        "        ix+=1\n",
        "#plot the filters \n",
        "plt.show()"
      ],
      "metadata": {
        "colab": {
          "base_uri": "https://localhost:8080/",
          "height": 672
        },
        "id": "IJmcTavtp7Wd",
        "outputId": "39d19b26-1b03-4d1a-d08d-edf7e15668d2"
      },
      "execution_count": 145,
      "outputs": [
        {
          "output_type": "stream",
          "name": "stdout",
          "text": [
            "conv2d_16 (3, 3, 1, 32)\n",
            "conv2d_17 (3, 3, 32, 32)\n",
            "conv2d_18 (3, 3, 32, 32)\n",
            "conv2d_19 (3, 3, 32, 32)\n"
          ]
        },
        {
          "output_type": "display_data",
          "data": {
            "text/plain": [
              "<Figure size 1440x1080 with 18 Axes>"
            ],
            "image/png": "[encoded data removed]"
          },
          "metadata": {
            "needs_background": "light"
          }
        }
      ]
    },
    {
      "cell_type": "code",
      "source": [
        "# summarize filter shapes\n",
        "for layer in model.layers:\n",
        "\t# check for convolutional layer\n",
        "\tif 'conv' not in layer.name:\n",
        "\t\tcontinue\n",
        "\t# get filter weights\n",
        "\tfilters, biases = layer.get_weights()\n",
        "\tprint(layer.name, filters.shape)\n",
        " \n",
        "\n",
        " # retrieve weights from the fourth conv layer\n",
        "filters , bias = model.layers[6].get_weights()\n",
        "\n",
        "\n",
        "# normalize filter values to 0-1 so we can visualize them\n",
        "f_min, f_max = filters.min(), filters.max()\n",
        "filters = (filters - f_min) / (f_max - f_min)\n",
        "\n",
        "\n",
        "n_filters =6\n",
        "ix=1\n",
        "fig = plt.figure(figsize=(20,15))\n",
        "for i in range(n_filters):\n",
        "    # get the filters\n",
        "    f = filters[:,:,:,i]\n",
        "    for j in range(3):\n",
        "        # subplot for 6 filters and 3 channels\n",
        "        plt.subplot(n_filters,3,ix)\n",
        "        plt.imshow(f[:,:,j] ,cmap='gray')\n",
        "        ix+=1\n",
        "#plot the filters \n",
        "plt.show()"
      ],
      "metadata": {
        "colab": {
          "base_uri": "https://localhost:8080/",
          "height": 672
        },
        "id": "R7l0bX8QvHTx",
        "outputId": "2157b086-a505-4fc4-e827-0520736497ca"
      },
      "execution_count": 150,
      "outputs": [
        {
          "output_type": "stream",
          "name": "stdout",
          "text": [
            "conv2d_16 (3, 3, 1, 32)\n",
            "conv2d_17 (3, 3, 32, 32)\n",
            "conv2d_18 (3, 3, 32, 32)\n",
            "conv2d_19 (3, 3, 32, 32)\n"
          ]
        },
        {
          "output_type": "display_data",
          "data": {
            "text/plain": [
              "<Figure size 1440x1080 with 18 Axes>"
            ],
            "image/png": "[encoded data removed]"
          },
          "metadata": {
            "needs_background": "light"
          }
        }
      ]
    }
  ]
}